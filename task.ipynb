{
 "cells": [
  {
   "cell_type": "code",
   "execution_count": 4,
   "id": "a9daf5f3",
   "metadata": {},
   "outputs": [],
   "source": [
    "import pandas as pd"
   ]
  },
  {
   "cell_type": "code",
   "execution_count": 2,
   "id": "b0be0e7f",
   "metadata": {},
   "outputs": [],
   "source": [
    "jd_df = pd.read_excel('data/jd_data.xlsx')"
   ]
  },
  {
   "cell_type": "code",
   "execution_count": 3,
   "id": "d29d21be",
   "metadata": {},
   "outputs": [
    {
     "data": {
      "text/html": [
       "<div>\n",
       "<style scoped>\n",
       "    .dataframe tbody tr th:only-of-type {\n",
       "        vertical-align: middle;\n",
       "    }\n",
       "\n",
       "    .dataframe tbody tr th {\n",
       "        vertical-align: top;\n",
       "    }\n",
       "\n",
       "    .dataframe thead th {\n",
       "        text-align: right;\n",
       "    }\n",
       "</style>\n",
       "<table border=\"1\" class=\"dataframe\">\n",
       "  <thead>\n",
       "    <tr style=\"text-align: right;\">\n",
       "      <th></th>\n",
       "      <th>JD_Text</th>\n",
       "    </tr>\n",
       "  </thead>\n",
       "  <tbody>\n",
       "    <tr>\n",
       "      <th>0</th>\n",
       "      <td>\\n**Overview  \\n  \\n** Lazydays RV is looking ...</td>\n",
       "    </tr>\n",
       "    <tr>\n",
       "      <th>1</th>\n",
       "      <td>\\n**Ãrea De AtuaÃ§Ã£o  \\n  \\n** TÃ©cnico em I...</td>\n",
       "    </tr>\n",
       "    <tr>\n",
       "      <th>2</th>\n",
       "      <td>\\n\\n\\nðŸ”µ Capitole is still growing and we wa...</td>\n",
       "    </tr>\n",
       "    <tr>\n",
       "      <th>3</th>\n",
       "      <td>\\n\\n\\nAs a Solutions Engineer, you will work c...</td>\n",
       "    </tr>\n",
       "    <tr>\n",
       "      <th>4</th>\n",
       "      <td>\\n\\n\\n**ABOUT DAYONE**\\n\\nDayOne is a global l...</td>\n",
       "    </tr>\n",
       "    <tr>\n",
       "      <th>...</th>\n",
       "      <td>...</td>\n",
       "    </tr>\n",
       "    <tr>\n",
       "      <th>2992</th>\n",
       "      <td>\\n Job Description\\n \\n\\n**Who We Are:**\\n\\nLe...</td>\n",
       "    </tr>\n",
       "    <tr>\n",
       "      <th>2993</th>\n",
       "      <td>\\n Job Description\\n \\n\\nIt's fun to work in a...</td>\n",
       "    </tr>\n",
       "    <tr>\n",
       "      <th>2994</th>\n",
       "      <td>\\n Job Description\\n \\n\\n**About Bazaarvoice  ...</td>\n",
       "    </tr>\n",
       "    <tr>\n",
       "      <th>2995</th>\n",
       "      <td>\\n Job Description\\n \\n\\n**Opportunity Overvie...</td>\n",
       "    </tr>\n",
       "    <tr>\n",
       "      <th>2996</th>\n",
       "      <td>\\n Job Description\\n \\n\\n### JOB DESCRIPTION\\n...</td>\n",
       "    </tr>\n",
       "  </tbody>\n",
       "</table>\n",
       "<p>2997 rows × 1 columns</p>\n",
       "</div>"
      ],
      "text/plain": [
       "                                                JD_Text\n",
       "0     \\n**Overview  \\n  \\n** Lazydays RV is looking ...\n",
       "1     \\n**Ãrea De AtuaÃ§Ã£o  \\n  \\n** TÃ©cnico em I...\n",
       "2     \\n\\n\\nðŸ”µ Capitole is still growing and we wa...\n",
       "3     \\n\\n\\nAs a Solutions Engineer, you will work c...\n",
       "4     \\n\\n\\n**ABOUT DAYONE**\\n\\nDayOne is a global l...\n",
       "...                                                 ...\n",
       "2992  \\n Job Description\\n \\n\\n**Who We Are:**\\n\\nLe...\n",
       "2993  \\n Job Description\\n \\n\\nIt's fun to work in a...\n",
       "2994  \\n Job Description\\n \\n\\n**About Bazaarvoice  ...\n",
       "2995  \\n Job Description\\n \\n\\n**Opportunity Overvie...\n",
       "2996  \\n Job Description\\n \\n\\n### JOB DESCRIPTION\\n...\n",
       "\n",
       "[2997 rows x 1 columns]"
      ]
     },
     "execution_count": 3,
     "metadata": {},
     "output_type": "execute_result"
    }
   ],
   "source": [
    "jd_df"
   ]
  },
  {
   "cell_type": "code",
   "execution_count": 5,
   "id": "d8d8db09",
   "metadata": {},
   "outputs": [],
   "source": [
    "import pandas as pd\n",
    "\n",
    "def load_job_descriptions(path: str) -> pd.DataFrame:\n",
    "    df = pd.read_excel(path)\n",
    "    print(f\"Loaded {len(df)} job descriptions.\")\n",
    "    print(\"Columns:\", df.columns.tolist())\n",
    "    return df"
   ]
  },
  {
   "cell_type": "code",
   "execution_count": 10,
   "id": "952a0da4",
   "metadata": {},
   "outputs": [
    {
     "name": "stdout",
     "output_type": "stream",
     "text": [
      "Loaded 2997 job descriptions.\n",
      "Columns: ['JD_Text']\n",
      "                                             JD_Text\n",
      "0  \\n**Overview  \\n  \\n** Lazydays RV is looking ...\n",
      "1  \\n**Ãrea De AtuaÃ§Ã£o  \\n  \\n** TÃ©cnico em I...\n",
      "2  \\n\\n\\nðŸ”µ Capitole is still growing and we wa...\n",
      "3  \\n\\n\\nAs a Solutions Engineer, you will work c...\n",
      "4  \\n\\n\\n**ABOUT DAYONE**\\n\\nDayOne is a global l...\n",
      "5  \\n\\n\\n**Job Role: Oracle PL/SQL Developer**\\n\\...\n",
      "6  \\n\\n\\n**Job Title:** Azure Data Engineer\\n\\n**...\n",
      "7  \\n\\n\\nSynergie Italia seleziona per azienda le...\n",
      "8  \\n**About  \\n  \\n** Du hast als IT-Ass eine Af...\n",
      "9  \\n\\n\\n**Position: Senior Microsoft SQL Server ...\n"
     ]
    }
   ],
   "source": [
    "df = load_job_descriptions(\"data/jd_data.xlsx\")\n",
    "print(df.head(10))"
   ]
  },
  {
   "cell_type": "code",
   "execution_count": null,
   "id": "87a09e57",
   "metadata": {},
   "outputs": [],
   "source": []
  }
 ],
 "metadata": {
  "kernelspec": {
   "display_name": "mployee-task",
   "language": "python",
   "name": "python3"
  },
  "language_info": {
   "codemirror_mode": {
    "name": "ipython",
    "version": 3
   },
   "file_extension": ".py",
   "mimetype": "text/x-python",
   "name": "python",
   "nbconvert_exporter": "python",
   "pygments_lexer": "ipython3",
   "version": "3.10.16"
  }
 },
 "nbformat": 4,
 "nbformat_minor": 5
}
