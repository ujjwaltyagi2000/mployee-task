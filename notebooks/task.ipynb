{
 "cells": [
  {
   "cell_type": "markdown",
   "id": "0a36af9d",
   "metadata": {},
   "source": [
    "# Extracting \"Total Experience\" from Job Descriptions"
   ]
  },
  {
   "cell_type": "markdown",
   "id": "b0c1d85f",
   "metadata": {},
   "source": [
    "## Objective\n",
    "\n",
    "You are provided with an Excel sheet containing 3000 Job Descriptions (JDs). Your task is to:\n",
    "\n",
    "1. Research and choose 5–6 models or techniques to extract the total experience required for\n",
    "   that job from each JD. You can choose Langchain or hugging face or transformers as per your\n",
    "   preference\n",
    "2. Write a code which implements all model in single code to give comparison of the output of\n",
    "   each model extract total experience.\n",
    "3. Compare the results from each model and output them in an Excel sheet. Use parallel\n",
    "   processing to run efficiently\n",
    "4. Analyze which model performs the best based on consistency, logic, or accuracy (as per your\n",
    "   understanding).\n",
    "5. Submit your recommendation of the best model with justification."
   ]
  },
  {
   "cell_type": "markdown",
   "id": "7ce54325",
   "metadata": {},
   "source": [
    "## Guidelines for Research & Model Selection\n",
    "\n",
    "• Share the Final Running code\n",
    "\n",
    "• Share the generated output excel sheet\n",
    "\n",
    "• Think of a holistic algorithm to start out to Extract “Total Years of Experience” as mentioned\n",
    "in JD\n",
    "\n",
    "• Go through data well, and the variations in JD\n",
    "\n",
    "• According to you which is the best approach\n",
    "\n",
    "• In case of writing a prompt, be vigilant to which prompt should be used for which model"
   ]
  },
  {
   "cell_type": "markdown",
   "id": "45e24476",
   "metadata": {},
   "source": []
  },
  {
   "cell_type": "markdown",
   "id": "cdbdd421",
   "metadata": {},
   "source": []
  },
  {
   "cell_type": "markdown",
   "id": "16521fdd",
   "metadata": {},
   "source": [
    "## 📁 Project Directory Structure \n",
    "\n",
    "- `data/` – Contains the input Excel file with all job descriptions.\n",
    "\n",
    "- `models/` – Holds individual scripts for each model or technique used to extract experience.\n",
    "\n",
    "- `outputs/` – Stores generated results like extracted experience and final comparison files.\n",
    "\n",
    "- `notebooks/` – Used for prototyping, testing, and experimenting with code in Jupyter.\n",
    "\n",
    "- `main.py` – The main driver script that loads data, runs models, and saves outputs.\n",
    "\n",
    "I'll be using this notebook as a scratchpad for exploration and testing, and then transferring stable code into structured scripts."
   ]
  },
  {
   "cell_type": "markdown",
   "id": "4e69c046",
   "metadata": {},
   "source": []
  },
  {
   "cell_type": "code",
   "execution_count": 1,
   "id": "a9daf5f3",
   "metadata": {},
   "outputs": [],
   "source": [
    "# imports\n",
    "import pandas as pd\n",
    "import spacy"
   ]
  },
  {
   "cell_type": "code",
   "execution_count": 2,
   "id": "b0be0e7f",
   "metadata": {},
   "outputs": [],
   "source": [
    "# reading input data\n",
    "file_path = \"../data/jd_data.xlsx\"\n",
    "jd_df = pd.read_excel(file_path)"
   ]
  },
  {
   "cell_type": "code",
   "execution_count": 3,
   "id": "d29d21be",
   "metadata": {},
   "outputs": [
    {
     "data": {
      "text/html": [
       "<div>\n",
       "<style scoped>\n",
       "    .dataframe tbody tr th:only-of-type {\n",
       "        vertical-align: middle;\n",
       "    }\n",
       "\n",
       "    .dataframe tbody tr th {\n",
       "        vertical-align: top;\n",
       "    }\n",
       "\n",
       "    .dataframe thead th {\n",
       "        text-align: right;\n",
       "    }\n",
       "</style>\n",
       "<table border=\"1\" class=\"dataframe\">\n",
       "  <thead>\n",
       "    <tr style=\"text-align: right;\">\n",
       "      <th></th>\n",
       "      <th>JD_Text</th>\n",
       "    </tr>\n",
       "  </thead>\n",
       "  <tbody>\n",
       "    <tr>\n",
       "      <th>0</th>\n",
       "      <td>\\n**Overview  \\n  \\n** Lazydays RV is looking ...</td>\n",
       "    </tr>\n",
       "    <tr>\n",
       "      <th>1</th>\n",
       "      <td>\\n**Ãrea De AtuaÃ§Ã£o  \\n  \\n** TÃ©cnico em I...</td>\n",
       "    </tr>\n",
       "    <tr>\n",
       "      <th>2</th>\n",
       "      <td>\\n\\n\\nðŸ”µ Capitole is still growing and we wa...</td>\n",
       "    </tr>\n",
       "    <tr>\n",
       "      <th>3</th>\n",
       "      <td>\\n\\n\\nAs a Solutions Engineer, you will work c...</td>\n",
       "    </tr>\n",
       "    <tr>\n",
       "      <th>4</th>\n",
       "      <td>\\n\\n\\n**ABOUT DAYONE**\\n\\nDayOne is a global l...</td>\n",
       "    </tr>\n",
       "    <tr>\n",
       "      <th>...</th>\n",
       "      <td>...</td>\n",
       "    </tr>\n",
       "    <tr>\n",
       "      <th>2992</th>\n",
       "      <td>\\n Job Description\\n \\n\\n**Who We Are:**\\n\\nLe...</td>\n",
       "    </tr>\n",
       "    <tr>\n",
       "      <th>2993</th>\n",
       "      <td>\\n Job Description\\n \\n\\nIt's fun to work in a...</td>\n",
       "    </tr>\n",
       "    <tr>\n",
       "      <th>2994</th>\n",
       "      <td>\\n Job Description\\n \\n\\n**About Bazaarvoice  ...</td>\n",
       "    </tr>\n",
       "    <tr>\n",
       "      <th>2995</th>\n",
       "      <td>\\n Job Description\\n \\n\\n**Opportunity Overvie...</td>\n",
       "    </tr>\n",
       "    <tr>\n",
       "      <th>2996</th>\n",
       "      <td>\\n Job Description\\n \\n\\n### JOB DESCRIPTION\\n...</td>\n",
       "    </tr>\n",
       "  </tbody>\n",
       "</table>\n",
       "<p>2997 rows × 1 columns</p>\n",
       "</div>"
      ],
      "text/plain": [
       "                                                JD_Text\n",
       "0     \\n**Overview  \\n  \\n** Lazydays RV is looking ...\n",
       "1     \\n**Ãrea De AtuaÃ§Ã£o  \\n  \\n** TÃ©cnico em I...\n",
       "2     \\n\\n\\nðŸ”µ Capitole is still growing and we wa...\n",
       "3     \\n\\n\\nAs a Solutions Engineer, you will work c...\n",
       "4     \\n\\n\\n**ABOUT DAYONE**\\n\\nDayOne is a global l...\n",
       "...                                                 ...\n",
       "2992  \\n Job Description\\n \\n\\n**Who We Are:**\\n\\nLe...\n",
       "2993  \\n Job Description\\n \\n\\nIt's fun to work in a...\n",
       "2994  \\n Job Description\\n \\n\\n**About Bazaarvoice  ...\n",
       "2995  \\n Job Description\\n \\n\\n**Opportunity Overvie...\n",
       "2996  \\n Job Description\\n \\n\\n### JOB DESCRIPTION\\n...\n",
       "\n",
       "[2997 rows x 1 columns]"
      ]
     },
     "execution_count": 3,
     "metadata": {},
     "output_type": "execute_result"
    }
   ],
   "source": [
    "jd_df"
   ]
  },
  {
   "cell_type": "markdown",
   "id": "51af2e10",
   "metadata": {},
   "source": [
    "Upon going through the input data I found that not all JDs have explicitly mentioned the required total experience. So while trying all these models I will have to take it into account. Each model script must return something like \"Not mentioned\" in case there is no experience found in the JD."
   ]
  },
  {
   "cell_type": "markdown",
   "id": "dc586457",
   "metadata": {},
   "source": [
    "## Testing Models"
   ]
  },
  {
   "cell_type": "markdown",
   "id": "47262b38",
   "metadata": {},
   "source": [
    "#### **1. en-core-web-sm**"
   ]
  },
  {
   "cell_type": "code",
   "execution_count": 4,
   "id": "75d28c37",
   "metadata": {},
   "outputs": [],
   "source": [
    "import spacy"
   ]
  },
  {
   "cell_type": "code",
   "execution_count": 5,
   "id": "dd2ce25c",
   "metadata": {},
   "outputs": [],
   "source": [
    "nlp = spacy.load(\"en_core_web_sm\")"
   ]
  },
  {
   "cell_type": "code",
   "execution_count": 6,
   "id": "9cbea871",
   "metadata": {},
   "outputs": [
    {
     "data": {
      "text/html": [
       "<div>\n",
       "<style scoped>\n",
       "    .dataframe tbody tr th:only-of-type {\n",
       "        vertical-align: middle;\n",
       "    }\n",
       "\n",
       "    .dataframe tbody tr th {\n",
       "        vertical-align: top;\n",
       "    }\n",
       "\n",
       "    .dataframe thead th {\n",
       "        text-align: right;\n",
       "    }\n",
       "</style>\n",
       "<table border=\"1\" class=\"dataframe\">\n",
       "  <thead>\n",
       "    <tr style=\"text-align: right;\">\n",
       "      <th></th>\n",
       "      <th>JD_Text</th>\n",
       "    </tr>\n",
       "  </thead>\n",
       "  <tbody>\n",
       "    <tr>\n",
       "      <th>0</th>\n",
       "      <td>\\n**Overview  \\n  \\n** Lazydays RV is looking ...</td>\n",
       "    </tr>\n",
       "    <tr>\n",
       "      <th>1</th>\n",
       "      <td>\\n**Ãrea De AtuaÃ§Ã£o  \\n  \\n** TÃ©cnico em I...</td>\n",
       "    </tr>\n",
       "    <tr>\n",
       "      <th>2</th>\n",
       "      <td>\\n\\n\\nðŸ”µ Capitole is still growing and we wa...</td>\n",
       "    </tr>\n",
       "    <tr>\n",
       "      <th>3</th>\n",
       "      <td>\\n\\n\\nAs a Solutions Engineer, you will work c...</td>\n",
       "    </tr>\n",
       "    <tr>\n",
       "      <th>4</th>\n",
       "      <td>\\n\\n\\n**ABOUT DAYONE**\\n\\nDayOne is a global l...</td>\n",
       "    </tr>\n",
       "    <tr>\n",
       "      <th>5</th>\n",
       "      <td>\\n\\n\\n**Job Role: Oracle PL/SQL Developer**\\n\\...</td>\n",
       "    </tr>\n",
       "    <tr>\n",
       "      <th>6</th>\n",
       "      <td>\\n\\n\\n**Job Title:** Azure Data Engineer\\n\\n**...</td>\n",
       "    </tr>\n",
       "    <tr>\n",
       "      <th>7</th>\n",
       "      <td>\\n\\n\\nSynergie Italia seleziona per azienda le...</td>\n",
       "    </tr>\n",
       "    <tr>\n",
       "      <th>8</th>\n",
       "      <td>\\n**About  \\n  \\n** Du hast als IT-Ass eine Af...</td>\n",
       "    </tr>\n",
       "    <tr>\n",
       "      <th>9</th>\n",
       "      <td>\\n\\n\\n**Position: Senior Microsoft SQL Server ...</td>\n",
       "    </tr>\n",
       "  </tbody>\n",
       "</table>\n",
       "</div>"
      ],
      "text/plain": [
       "                                             JD_Text\n",
       "0  \\n**Overview  \\n  \\n** Lazydays RV is looking ...\n",
       "1  \\n**Ãrea De AtuaÃ§Ã£o  \\n  \\n** TÃ©cnico em I...\n",
       "2  \\n\\n\\nðŸ”µ Capitole is still growing and we wa...\n",
       "3  \\n\\n\\nAs a Solutions Engineer, you will work c...\n",
       "4  \\n\\n\\n**ABOUT DAYONE**\\n\\nDayOne is a global l...\n",
       "5  \\n\\n\\n**Job Role: Oracle PL/SQL Developer**\\n\\...\n",
       "6  \\n\\n\\n**Job Title:** Azure Data Engineer\\n\\n**...\n",
       "7  \\n\\n\\nSynergie Italia seleziona per azienda le...\n",
       "8  \\n**About  \\n  \\n** Du hast als IT-Ass eine Af...\n",
       "9  \\n\\n\\n**Position: Senior Microsoft SQL Server ..."
      ]
     },
     "execution_count": 6,
     "metadata": {},
     "output_type": "execute_result"
    }
   ],
   "source": [
    "sample_df = jd_df.head(10)\n",
    "sample_df"
   ]
  },
  {
   "cell_type": "code",
   "execution_count": 7,
   "id": "2da4c60c",
   "metadata": {},
   "outputs": [],
   "source": [
    "# word map to identify non numeric experience values\n",
    "WORD_NUM_MAP = {\n",
    "    \"zero\": \"0\",\n",
    "    \"one\": \"1\",\n",
    "    \"two\": \"2\",\n",
    "    \"three\": \"3\",\n",
    "    \"four\": \"4\",\n",
    "    \"five\": \"5\",\n",
    "    \"six\": \"6\",\n",
    "    \"seven\": \"7\",\n",
    "    \"eight\": \"8\",\n",
    "    \"nine\": \"9\",\n",
    "    \"ten\": \"10\",\n",
    "    \"eleven\": \"11\",\n",
    "    \"twelve\": \"12\",\n",
    "    \"thirteen\": \"13\",\n",
    "    \"fourteen\": \"14\",\n",
    "    \"fifteen\": \"15\",\n",
    "    \"sixteen\": \"16\",\n",
    "    \"seventeen\": \"17\",\n",
    "    \"eighteen\": \"18\",\n",
    "    \"nineteen\": \"19\",\n",
    "    \"twenty\": \"20\",\n",
    "}"
   ]
  },
  {
   "cell_type": "code",
   "execution_count": 8,
   "id": "07f2cf37",
   "metadata": {},
   "outputs": [],
   "source": [
    "def extract_experience_years(text, nlp):\n",
    "    text = text.lower()\n",
    "    doc = nlp(text)\n",
    "\n",
    "    # First: Spacy-based entity detection\n",
    "    for ent in doc.ents:\n",
    "        if ent.label_ in [\"CARDINAL\", \"QUANTITY\", \"ORDINAL\"]:\n",
    "            window = text[ent.start_char : ent.end_char + 20]\n",
    "            if \"year\" in window or \"yrs\" in window:\n",
    "                return ent.text.strip() + \" years\"\n",
    "\n",
    "    # Second: Manual word-number scanning\n",
    "    for word, digit in WORD_NUM_MAP.items():\n",
    "        if f\"{word} year\" in text or f\"{word} years\" in text:\n",
    "            return digit + \" years\"\n",
    "\n",
    "    return \"Not mentioned\""
   ]
  },
  {
   "cell_type": "code",
   "execution_count": 9,
   "id": "a17dff2a",
   "metadata": {},
   "outputs": [
    {
     "name": "stdout",
     "output_type": "stream",
     "text": [
      "Extraction complete. Results saved to outputs/spacy_model_results.xlsx\n"
     ]
    },
    {
     "name": "stderr",
     "output_type": "stream",
     "text": [
      "C:\\Users\\ujjwa\\AppData\\Local\\Temp\\ipykernel_16660\\1497771991.py:1: SettingWithCopyWarning: \n",
      "A value is trying to be set on a copy of a slice from a DataFrame.\n",
      "Try using .loc[row_indexer,col_indexer] = value instead\n",
      "\n",
      "See the caveats in the documentation: https://pandas.pydata.org/pandas-docs/stable/user_guide/indexing.html#returning-a-view-versus-a-copy\n",
      "  sample_df['spacy_experience'] = sample_df['JD_Text'].apply(lambda x: extract_experience_years(str(x), nlp))\n"
     ]
    }
   ],
   "source": [
    "sample_df['spacy_experience'] = sample_df['JD_Text'].apply(lambda x: extract_experience_years(str(x), nlp))\n",
    "sample_df.to_excel(\"../sample_outputs/spacy_model_results.xlsx\", index=False)\n",
    "print(\"Extraction complete. Results saved to outputs/spacy_model_results.xlsx\")"
   ]
  },
  {
   "cell_type": "markdown",
   "id": "5305bb24",
   "metadata": {},
   "source": []
  },
  {
   "cell_type": "markdown",
   "id": "53ca6999",
   "metadata": {},
   "source": []
  },
  {
   "cell_type": "markdown",
   "id": "fe73c758",
   "metadata": {},
   "source": [
    "#### **2. LLaMA 3 8B 8192**"
   ]
  },
  {
   "cell_type": "code",
   "execution_count": 25,
   "id": "bd19e789",
   "metadata": {},
   "outputs": [],
   "source": [
    "from openai import OpenAI\n",
    "import os\n",
    "\n",
    "# Load Groq API key from environment variable\n",
    "GROQ_API_KEY = os.getenv(\"GROQ_API_KEY\")\n",
    "\n",
    "if not GROQ_API_KEY:\n",
    "    raise ValueError(\"GROQ_API_KEY environment variable is not set.\")\n",
    "\n",
    "# Setup Groq client\n",
    "client = OpenAI(\n",
    "    base_url=\"https://api.groq.com/openai/v1\",\n",
    "    api_key=GROQ_API_KEY\n",
    ")\n",
    "\n",
    "# Extraction function\n",
    "def extract_experience_groq(jd_text: str, model: str = \"llama3-8b-8192\") -> str:\n",
    "    prompt = (\n",
    "        \"Only analyze job descriptions written in English. \"\n",
    "        \"Extract only the number of years of experience required. \"\n",
    "        \"Only return a number followed by the word 'years', like '3 years'. \"\n",
    "        \"If it's not mentioned or the text is not in English, return 'Not mentioned'. \"\n",
    "        \"Do not include any explanation.\\n\\n\"\n",
    "        f\"{jd_text}\\n\\n\"\n",
    "        \"Answer:\"\n",
    "    )\n",
    "\n",
    "    try:\n",
    "        response = client.chat.completions.create(\n",
    "            model=model,\n",
    "            messages=[{\"role\": \"user\", \"content\": prompt}],\n",
    "            temperature=0\n",
    "        )\n",
    "        return response.choices[0].message.content.strip()\n",
    "    except Exception as e:\n",
    "        return f\"Error: {str(e)}\""
   ]
  },
  {
   "cell_type": "code",
   "execution_count": 26,
   "id": "6d1ef13a",
   "metadata": {},
   "outputs": [
    {
     "name": "stderr",
     "output_type": "stream",
     "text": [
      "C:\\Users\\ujjwa\\AppData\\Local\\Temp\\ipykernel_16660\\3863295903.py:3: SettingWithCopyWarning: \n",
      "A value is trying to be set on a copy of a slice from a DataFrame.\n",
      "Try using .loc[row_indexer,col_indexer] = value instead\n",
      "\n",
      "See the caveats in the documentation: https://pandas.pydata.org/pandas-docs/stable/user_guide/indexing.html#returning-a-view-versus-a-copy\n",
      "  sample_df[\"groq_experience\"] = sample_df[\"JD_Text\"].apply(lambda x: extract_experience_groq(str(x)))\n"
     ]
    },
    {
     "data": {
      "text/html": [
       "<div>\n",
       "<style scoped>\n",
       "    .dataframe tbody tr th:only-of-type {\n",
       "        vertical-align: middle;\n",
       "    }\n",
       "\n",
       "    .dataframe tbody tr th {\n",
       "        vertical-align: top;\n",
       "    }\n",
       "\n",
       "    .dataframe thead th {\n",
       "        text-align: right;\n",
       "    }\n",
       "</style>\n",
       "<table border=\"1\" class=\"dataframe\">\n",
       "  <thead>\n",
       "    <tr style=\"text-align: right;\">\n",
       "      <th></th>\n",
       "      <th>JD_Text</th>\n",
       "      <th>groq_experience</th>\n",
       "    </tr>\n",
       "  </thead>\n",
       "  <tbody>\n",
       "    <tr>\n",
       "      <th>0</th>\n",
       "      <td>\\n**Overview  \\n  \\n** Lazydays RV is looking ...</td>\n",
       "      <td>Not mentioned</td>\n",
       "    </tr>\n",
       "    <tr>\n",
       "      <th>1</th>\n",
       "      <td>\\n**Ãrea De AtuaÃ§Ã£o  \\n  \\n** TÃ©cnico em I...</td>\n",
       "      <td>Not mentioned</td>\n",
       "    </tr>\n",
       "    <tr>\n",
       "      <th>2</th>\n",
       "      <td>\\n\\n\\nðŸ”µ Capitole is still growing and we wa...</td>\n",
       "      <td>Not mentioned</td>\n",
       "    </tr>\n",
       "    <tr>\n",
       "      <th>3</th>\n",
       "      <td>\\n\\n\\nAs a Solutions Engineer, you will work c...</td>\n",
       "      <td>Not mentioned</td>\n",
       "    </tr>\n",
       "    <tr>\n",
       "      <th>4</th>\n",
       "      <td>\\n\\n\\n**ABOUT DAYONE**\\n\\nDayOne is a global l...</td>\n",
       "      <td>5 years</td>\n",
       "    </tr>\n",
       "    <tr>\n",
       "      <th>5</th>\n",
       "      <td>\\n\\n\\n**Job Role: Oracle PL/SQL Developer**\\n\\...</td>\n",
       "      <td>10 years</td>\n",
       "    </tr>\n",
       "    <tr>\n",
       "      <th>6</th>\n",
       "      <td>\\n\\n\\n**Job Title:** Azure Data Engineer\\n\\n**...</td>\n",
       "      <td>5 years</td>\n",
       "    </tr>\n",
       "    <tr>\n",
       "      <th>7</th>\n",
       "      <td>\\n\\n\\nSynergie Italia seleziona per azienda le...</td>\n",
       "      <td>Not mentioned</td>\n",
       "    </tr>\n",
       "    <tr>\n",
       "      <th>8</th>\n",
       "      <td>\\n**About  \\n  \\n** Du hast als IT-Ass eine Af...</td>\n",
       "      <td>Not mentioned</td>\n",
       "    </tr>\n",
       "    <tr>\n",
       "      <th>9</th>\n",
       "      <td>\\n\\n\\n**Position: Senior Microsoft SQL Server ...</td>\n",
       "      <td>10 years</td>\n",
       "    </tr>\n",
       "  </tbody>\n",
       "</table>\n",
       "</div>"
      ],
      "text/plain": [
       "                                             JD_Text groq_experience\n",
       "0  \\n**Overview  \\n  \\n** Lazydays RV is looking ...   Not mentioned\n",
       "1  \\n**Ãrea De AtuaÃ§Ã£o  \\n  \\n** TÃ©cnico em I...   Not mentioned\n",
       "2  \\n\\n\\nðŸ”µ Capitole is still growing and we wa...   Not mentioned\n",
       "3  \\n\\n\\nAs a Solutions Engineer, you will work c...   Not mentioned\n",
       "4  \\n\\n\\n**ABOUT DAYONE**\\n\\nDayOne is a global l...         5 years\n",
       "5  \\n\\n\\n**Job Role: Oracle PL/SQL Developer**\\n\\...        10 years\n",
       "6  \\n\\n\\n**Job Title:** Azure Data Engineer\\n\\n**...         5 years\n",
       "7  \\n\\n\\nSynergie Italia seleziona per azienda le...   Not mentioned\n",
       "8  \\n**About  \\n  \\n** Du hast als IT-Ass eine Af...   Not mentioned\n",
       "9  \\n\\n\\n**Position: Senior Microsoft SQL Server ...        10 years"
      ]
     },
     "execution_count": 26,
     "metadata": {},
     "output_type": "execute_result"
    }
   ],
   "source": [
    "import pandas as pd\n",
    "\n",
    "sample_df[\"groq_experience\"] = sample_df[\"JD_Text\"].apply(lambda x: extract_experience_groq(str(x)))\n",
    "\n",
    "# View results\n",
    "sample_df[[\"JD_Text\", \"groq_experience\"]]\n"
   ]
  },
  {
   "cell_type": "code",
   "execution_count": 27,
   "id": "970e6365",
   "metadata": {},
   "outputs": [],
   "source": [
    "sample_df[['JD_Text','groq_experience']].to_excel(\"../sample_outputs/groq_model_results.xlsx\", index=False)"
   ]
  },
  {
   "cell_type": "markdown",
   "id": "2e7ef8d3",
   "metadata": {},
   "source": []
  },
  {
   "cell_type": "markdown",
   "id": "4de2d3f0",
   "metadata": {},
   "source": []
  },
  {
   "cell_type": "markdown",
   "id": "c7057b5a",
   "metadata": {},
   "source": [
    "#### **3. deepset/roberta-base-squad2**"
   ]
  },
  {
   "cell_type": "code",
   "execution_count": 35,
   "id": "f21d11b4",
   "metadata": {},
   "outputs": [
    {
     "name": "stderr",
     "output_type": "stream",
     "text": [
      "Device set to use cpu\n"
     ]
    },
    {
     "name": "stdout",
     "output_type": "stream",
     "text": [
      "{'score': 0.21171416342258453, 'start': 59, 'end': 84, 'answer': 'gives freedom to the user'}\n",
      "gives freedom to the user\n"
     ]
    }
   ],
   "source": [
    "# trying code from docs\n",
    "\n",
    "from transformers import AutoModelForQuestionAnswering, AutoTokenizer, pipeline\n",
    "\n",
    "model_name = \"deepset/roberta-base-squad2\"\n",
    "\n",
    "# a) Get predictions\n",
    "nlp = pipeline('question-answering', model=model_name, tokenizer=model_name)\n",
    "QA_input = {\n",
    "    'question': 'Why is model conversion important?',\n",
    "    'context': 'The option to convert models between FARM and transformers gives freedom to the user and let people easily switch between frameworks.'\n",
    "}\n",
    "res = nlp(QA_input)\n",
    "\n",
    "# b) Load model & tokenizer\n",
    "model = AutoModelForQuestionAnswering.from_pretrained(model_name)\n",
    "tokenizer = AutoTokenizer.from_pretrained(model_name)\n",
    "\n",
    "print(res)\n",
    "print(res['answer'])"
   ]
  },
  {
   "cell_type": "code",
   "execution_count": 36,
   "id": "b054130b",
   "metadata": {},
   "outputs": [
    {
     "name": "stderr",
     "output_type": "stream",
     "text": [
      "Device set to use cpu\n"
     ]
    }
   ],
   "source": [
    "# implementation for task\n",
    "\n",
    "from transformers import pipeline\n",
    "\n",
    "qa_pipeline = pipeline(\"question-answering\", model=\"deepset/roberta-base-squad2\")\n",
    "\n",
    "def extract_experience_roberta(jd_text: str) -> str:\n",
    "    question = \"How many years of experience is required for this job?\"\n",
    "    try:\n",
    "        result = qa_pipeline(question=question, context=jd_text)\n",
    "        if result[\"score\"] > 0.3 and result[\"answer\"].strip():\n",
    "            return result[\"answer\"]\n",
    "        else:\n",
    "            return \"Not mentioned\"\n",
    "    except Exception as e:\n",
    "        print(f\"Error: {e}\")\n",
    "        return \"Error\"\n"
   ]
  },
  {
   "cell_type": "code",
   "execution_count": 14,
   "id": "4a687829",
   "metadata": {},
   "outputs": [
    {
     "name": "stderr",
     "output_type": "stream",
     "text": [
      "C:\\Users\\ujjwa\\AppData\\Local\\Temp\\ipykernel_16660\\4094119278.py:1: SettingWithCopyWarning: \n",
      "A value is trying to be set on a copy of a slice from a DataFrame.\n",
      "Try using .loc[row_indexer,col_indexer] = value instead\n",
      "\n",
      "See the caveats in the documentation: https://pandas.pydata.org/pandas-docs/stable/user_guide/indexing.html#returning-a-view-versus-a-copy\n",
      "  sample_df[\"hf_roberta_experience\"] = sample_df[\"JD_Text\"].apply(lambda x: extract_experience_roberta(str(x)))\n"
     ]
    },
    {
     "data": {
      "text/html": [
       "<div>\n",
       "<style scoped>\n",
       "    .dataframe tbody tr th:only-of-type {\n",
       "        vertical-align: middle;\n",
       "    }\n",
       "\n",
       "    .dataframe tbody tr th {\n",
       "        vertical-align: top;\n",
       "    }\n",
       "\n",
       "    .dataframe thead th {\n",
       "        text-align: right;\n",
       "    }\n",
       "</style>\n",
       "<table border=\"1\" class=\"dataframe\">\n",
       "  <thead>\n",
       "    <tr style=\"text-align: right;\">\n",
       "      <th></th>\n",
       "      <th>JD_Text</th>\n",
       "      <th>hf_roberta_experience</th>\n",
       "    </tr>\n",
       "  </thead>\n",
       "  <tbody>\n",
       "    <tr>\n",
       "      <th>0</th>\n",
       "      <td>\\n**Overview  \\n  \\n** Lazydays RV is looking ...</td>\n",
       "      <td>Not mentioned</td>\n",
       "    </tr>\n",
       "    <tr>\n",
       "      <th>1</th>\n",
       "      <td>\\n**Ãrea De AtuaÃ§Ã£o  \\n  \\n** TÃ©cnico em I...</td>\n",
       "      <td>Not mentioned</td>\n",
       "    </tr>\n",
       "    <tr>\n",
       "      <th>2</th>\n",
       "      <td>\\n\\n\\nðŸ”µ Capitole is still growing and we wa...</td>\n",
       "      <td>Not mentioned</td>\n",
       "    </tr>\n",
       "    <tr>\n",
       "      <th>3</th>\n",
       "      <td>\\n\\n\\nAs a Solutions Engineer, you will work c...</td>\n",
       "      <td>Not mentioned</td>\n",
       "    </tr>\n",
       "    <tr>\n",
       "      <th>4</th>\n",
       "      <td>\\n\\n\\n**ABOUT DAYONE**\\n\\nDayOne is a global l...</td>\n",
       "      <td>Not mentioned</td>\n",
       "    </tr>\n",
       "    <tr>\n",
       "      <th>5</th>\n",
       "      <td>\\n\\n\\n**Job Role: Oracle PL/SQL Developer**\\n\\...</td>\n",
       "      <td>10+</td>\n",
       "    </tr>\n",
       "    <tr>\n",
       "      <th>6</th>\n",
       "      <td>\\n\\n\\n**Job Title:** Azure Data Engineer\\n\\n**...</td>\n",
       "      <td>Not mentioned</td>\n",
       "    </tr>\n",
       "    <tr>\n",
       "      <th>7</th>\n",
       "      <td>\\n\\n\\nSynergie Italia seleziona per azienda le...</td>\n",
       "      <td>Not mentioned</td>\n",
       "    </tr>\n",
       "    <tr>\n",
       "      <th>8</th>\n",
       "      <td>\\n**About  \\n  \\n** Du hast als IT-Ass eine Af...</td>\n",
       "      <td>Not mentioned</td>\n",
       "    </tr>\n",
       "    <tr>\n",
       "      <th>9</th>\n",
       "      <td>\\n\\n\\n**Position: Senior Microsoft SQL Server ...</td>\n",
       "      <td>10+</td>\n",
       "    </tr>\n",
       "  </tbody>\n",
       "</table>\n",
       "</div>"
      ],
      "text/plain": [
       "                                             JD_Text hf_roberta_experience\n",
       "0  \\n**Overview  \\n  \\n** Lazydays RV is looking ...         Not mentioned\n",
       "1  \\n**Ãrea De AtuaÃ§Ã£o  \\n  \\n** TÃ©cnico em I...         Not mentioned\n",
       "2  \\n\\n\\nðŸ”µ Capitole is still growing and we wa...         Not mentioned\n",
       "3  \\n\\n\\nAs a Solutions Engineer, you will work c...         Not mentioned\n",
       "4  \\n\\n\\n**ABOUT DAYONE**\\n\\nDayOne is a global l...         Not mentioned\n",
       "5  \\n\\n\\n**Job Role: Oracle PL/SQL Developer**\\n\\...                   10+\n",
       "6  \\n\\n\\n**Job Title:** Azure Data Engineer\\n\\n**...         Not mentioned\n",
       "7  \\n\\n\\nSynergie Italia seleziona per azienda le...         Not mentioned\n",
       "8  \\n**About  \\n  \\n** Du hast als IT-Ass eine Af...         Not mentioned\n",
       "9  \\n\\n\\n**Position: Senior Microsoft SQL Server ...                   10+"
      ]
     },
     "execution_count": 14,
     "metadata": {},
     "output_type": "execute_result"
    }
   ],
   "source": [
    "sample_df[\"hf_roberta_experience\"] = sample_df[\"JD_Text\"].apply(lambda x: extract_experience_roberta(str(x)))\n",
    "\n",
    "# View results\n",
    "sample_df[[\"JD_Text\", \"hf_roberta_experience\"]]"
   ]
  },
  {
   "cell_type": "code",
   "execution_count": 15,
   "id": "11a2060b",
   "metadata": {},
   "outputs": [],
   "source": [
    "sample_df[['JD_Text','hf_roberta_experience']].to_excel(\"../sample_outputs/hf_roberta_results.xlsx\", index=False)"
   ]
  },
  {
   "cell_type": "markdown",
   "id": "7b94e6e0",
   "metadata": {},
   "source": []
  },
  {
   "cell_type": "markdown",
   "id": "9386fd20",
   "metadata": {},
   "source": []
  },
  {
   "cell_type": "markdown",
   "id": "25ef5847",
   "metadata": {},
   "source": [
    "#### **4. deepset/tinyroberta-squad2**"
   ]
  },
  {
   "cell_type": "code",
   "execution_count": 39,
   "id": "6525b586",
   "metadata": {},
   "outputs": [
    {
     "name": "stderr",
     "output_type": "stream",
     "text": [
      "Device set to use cpu\n",
      "C:\\Users\\ujjwa\\AppData\\Roaming\\Python\\Python310\\site-packages\\transformers\\pipelines\\question_answering.py:390: FutureWarning: Passing a list of SQuAD examples to the pipeline is deprecated and will be removed in v5. Inputs should be passed using the `question` and `context` keyword arguments instead.\n",
      "  warnings.warn(\n"
     ]
    },
    {
     "name": "stdout",
     "output_type": "stream",
     "text": [
      "{'score': 0.26244911551475525, 'start': 59, 'end': 132, 'answer': 'gives freedom to the user and let people easily switch between frameworks'}\n",
      "gives freedom to the user and let people easily switch between frameworks\n"
     ]
    }
   ],
   "source": [
    "# trying code from docs\n",
    "from transformers import AutoModelForQuestionAnswering, AutoTokenizer, pipeline\n",
    "\n",
    "model_name = \"deepset/tinyroberta-squad2\"\n",
    "\n",
    "# a) Get predictions\n",
    "nlp = pipeline('question-answering', model=model_name, tokenizer=model_name)\n",
    "QA_input = {\n",
    "    'question': 'Why is model conversion important?',\n",
    "    'context': 'The option to convert models between FARM and transformers gives freedom to the user and let people easily switch between frameworks.'\n",
    "}\n",
    "res = nlp(QA_input)\n",
    "\n",
    "# b) Load model & tokenizer\n",
    "model = AutoModelForQuestionAnswering.from_pretrained(model_name)\n",
    "tokenizer = AutoTokenizer.from_pretrained(model_name)\n",
    "\n",
    "print(res)\n",
    "print(res['answer'])"
   ]
  },
  {
   "cell_type": "code",
   "execution_count": 19,
   "id": "c16d1def",
   "metadata": {},
   "outputs": [
    {
     "data": {
      "text/html": [
       "<div>\n",
       "<style scoped>\n",
       "    .dataframe tbody tr th:only-of-type {\n",
       "        vertical-align: middle;\n",
       "    }\n",
       "\n",
       "    .dataframe tbody tr th {\n",
       "        vertical-align: top;\n",
       "    }\n",
       "\n",
       "    .dataframe thead th {\n",
       "        text-align: right;\n",
       "    }\n",
       "</style>\n",
       "<table border=\"1\" class=\"dataframe\">\n",
       "  <thead>\n",
       "    <tr style=\"text-align: right;\">\n",
       "      <th></th>\n",
       "      <th>JD_Text</th>\n",
       "      <th>spacy_experience</th>\n",
       "      <th>groq_experience</th>\n",
       "      <th>hf_roberta_experience</th>\n",
       "    </tr>\n",
       "  </thead>\n",
       "  <tbody>\n",
       "    <tr>\n",
       "      <th>0</th>\n",
       "      <td>\\n**Overview  \\n  \\n** Lazydays RV is looking ...</td>\n",
       "      <td>Not mentioned</td>\n",
       "      <td>Not mentioned</td>\n",
       "      <td>Not mentioned</td>\n",
       "    </tr>\n",
       "    <tr>\n",
       "      <th>1</th>\n",
       "      <td>\\n**Ãrea De AtuaÃ§Ã£o  \\n  \\n** TÃ©cnico em I...</td>\n",
       "      <td>Not mentioned</td>\n",
       "      <td>Not mentioned</td>\n",
       "      <td>Not mentioned</td>\n",
       "    </tr>\n",
       "    <tr>\n",
       "      <th>2</th>\n",
       "      <td>\\n\\n\\nðŸ”µ Capitole is still growing and we wa...</td>\n",
       "      <td>Not mentioned</td>\n",
       "      <td>Not mentioned</td>\n",
       "      <td>Not mentioned</td>\n",
       "    </tr>\n",
       "    <tr>\n",
       "      <th>3</th>\n",
       "      <td>\\n\\n\\nAs a Solutions Engineer, you will work c...</td>\n",
       "      <td>Not mentioned</td>\n",
       "      <td>Not mentioned</td>\n",
       "      <td>Not mentioned</td>\n",
       "    </tr>\n",
       "    <tr>\n",
       "      <th>4</th>\n",
       "      <td>\\n\\n\\n**ABOUT DAYONE**\\n\\nDayOne is a global l...</td>\n",
       "      <td>2 years</td>\n",
       "      <td>5 years</td>\n",
       "      <td>5</td>\n",
       "    </tr>\n",
       "    <tr>\n",
       "      <th>5</th>\n",
       "      <td>\\n\\n\\n**Job Role: Oracle PL/SQL Developer**\\n\\...</td>\n",
       "      <td>Not mentioned</td>\n",
       "      <td>10 years</td>\n",
       "      <td>10+</td>\n",
       "    </tr>\n",
       "    <tr>\n",
       "      <th>6</th>\n",
       "      <td>\\n\\n\\n**Job Title:** Azure Data Engineer\\n\\n**...</td>\n",
       "      <td>up to years</td>\n",
       "      <td>5 years</td>\n",
       "      <td>Up to 145,000/Year</td>\n",
       "    </tr>\n",
       "    <tr>\n",
       "      <th>7</th>\n",
       "      <td>\\n\\n\\nSynergie Italia seleziona per azienda le...</td>\n",
       "      <td>Not mentioned</td>\n",
       "      <td>Not mentioned</td>\n",
       "      <td>Not mentioned</td>\n",
       "    </tr>\n",
       "    <tr>\n",
       "      <th>8</th>\n",
       "      <td>\\n**About  \\n  \\n** Du hast als IT-Ass eine Af...</td>\n",
       "      <td>Not mentioned</td>\n",
       "      <td>Not mentioned</td>\n",
       "      <td>Not mentioned</td>\n",
       "    </tr>\n",
       "    <tr>\n",
       "      <th>9</th>\n",
       "      <td>\\n\\n\\n**Position: Senior Microsoft SQL Server ...</td>\n",
       "      <td>Not mentioned</td>\n",
       "      <td>10 years</td>\n",
       "      <td>10+</td>\n",
       "    </tr>\n",
       "  </tbody>\n",
       "</table>\n",
       "</div>"
      ],
      "text/plain": [
       "                                             JD_Text spacy_experience  \\\n",
       "0  \\n**Overview  \\n  \\n** Lazydays RV is looking ...    Not mentioned   \n",
       "1  \\n**Ãrea De AtuaÃ§Ã£o  \\n  \\n** TÃ©cnico em I...    Not mentioned   \n",
       "2  \\n\\n\\nðŸ”µ Capitole is still growing and we wa...    Not mentioned   \n",
       "3  \\n\\n\\nAs a Solutions Engineer, you will work c...    Not mentioned   \n",
       "4  \\n\\n\\n**ABOUT DAYONE**\\n\\nDayOne is a global l...          2 years   \n",
       "5  \\n\\n\\n**Job Role: Oracle PL/SQL Developer**\\n\\...    Not mentioned   \n",
       "6  \\n\\n\\n**Job Title:** Azure Data Engineer\\n\\n**...      up to years   \n",
       "7  \\n\\n\\nSynergie Italia seleziona per azienda le...    Not mentioned   \n",
       "8  \\n**About  \\n  \\n** Du hast als IT-Ass eine Af...    Not mentioned   \n",
       "9  \\n\\n\\n**Position: Senior Microsoft SQL Server ...    Not mentioned   \n",
       "\n",
       "  groq_experience hf_roberta_experience  \n",
       "0   Not mentioned         Not mentioned  \n",
       "1   Not mentioned         Not mentioned  \n",
       "2   Not mentioned         Not mentioned  \n",
       "3   Not mentioned         Not mentioned  \n",
       "4         5 years                     5  \n",
       "5        10 years                   10+  \n",
       "6         5 years    Up to 145,000/Year  \n",
       "7   Not mentioned         Not mentioned  \n",
       "8   Not mentioned         Not mentioned  \n",
       "9        10 years                   10+  "
      ]
     },
     "execution_count": 19,
     "metadata": {},
     "output_type": "execute_result"
    }
   ],
   "source": [
    "sample_df"
   ]
  },
  {
   "cell_type": "code",
   "execution_count": 20,
   "id": "c4137755",
   "metadata": {},
   "outputs": [],
   "source": [
    "from transformers import pipeline, AutoTokenizer, AutoModelForQuestionAnswering\n",
    "\n",
    "# Use a smaller, faster model\n",
    "MODEL_NAME = \"deepset/tinyroberta-squad2\"\n",
    "\n",
    "def load_model():\n",
    "    try:\n",
    "        tokenizer = AutoTokenizer.from_pretrained(MODEL_NAME, local_files_only=True)\n",
    "        model = AutoModelForQuestionAnswering.from_pretrained(MODEL_NAME, local_files_only=True)\n",
    "        qa_pipeline = pipeline(\"question-answering\", model=model, tokenizer=tokenizer)\n",
    "        return qa_pipeline\n",
    "    except Exception as e:\n",
    "        print(f\"[Tiny RoBERTa Load Error] Make sure the model is cached locally.\\n{e}\")\n",
    "        return None\n",
    "\n",
    "def extract_experience_hf_tinyroberta(jd_text: str, qa_pipeline) -> str:\n",
    "    if qa_pipeline is None:\n",
    "        return \"Error: Model not loaded\"\n",
    "\n",
    "    question = \"How many years of experience is required for this job?\"\n",
    "\n",
    "    try:\n",
    "        result = qa_pipeline({\"context\": jd_text, \"question\": question})\n",
    "        answer = result[\"answer\"].strip()\n",
    "\n",
    "        if any(char.isdigit() for char in answer):\n",
    "            return answer\n",
    "        else:\n",
    "            return \"Not mentioned\"\n",
    "    except Exception as e:\n",
    "        print(f\"[Tiny RoBERTa QA Error] {e}\")\n",
    "        return \"Error\"\n"
   ]
  },
  {
   "cell_type": "code",
   "execution_count": 21,
   "id": "bd43b5ca",
   "metadata": {},
   "outputs": [
    {
     "name": "stderr",
     "output_type": "stream",
     "text": [
      "Device set to use cpu\n",
      "C:\\Users\\ujjwa\\AppData\\Roaming\\Python\\Python310\\site-packages\\transformers\\pipelines\\question_answering.py:390: FutureWarning: Passing a list of SQuAD examples to the pipeline is deprecated and will be removed in v5. Inputs should be passed using the `question` and `context` keyword arguments instead.\n",
      "  warnings.warn(\n",
      "C:\\Users\\ujjwa\\AppData\\Local\\Temp\\ipykernel_16660\\133106001.py:3: SettingWithCopyWarning: \n",
      "A value is trying to be set on a copy of a slice from a DataFrame.\n",
      "Try using .loc[row_indexer,col_indexer] = value instead\n",
      "\n",
      "See the caveats in the documentation: https://pandas.pydata.org/pandas-docs/stable/user_guide/indexing.html#returning-a-view-versus-a-copy\n",
      "  sample_df[\"hf_tinyroberta_experience\"] = sample_df[\"JD_Text\"].apply(\n"
     ]
    }
   ],
   "source": [
    "qa_pipeline = load_model()\n",
    "\n",
    "sample_df[\"hf_tinyroberta_experience\"] = sample_df[\"JD_Text\"].apply(\n",
    "    lambda x: extract_experience_hf_tinyroberta(str(x), qa_pipeline)\n",
    ")\n"
   ]
  },
  {
   "cell_type": "code",
   "execution_count": 22,
   "id": "482a3cdd",
   "metadata": {},
   "outputs": [
    {
     "data": {
      "text/html": [
       "<div>\n",
       "<style scoped>\n",
       "    .dataframe tbody tr th:only-of-type {\n",
       "        vertical-align: middle;\n",
       "    }\n",
       "\n",
       "    .dataframe tbody tr th {\n",
       "        vertical-align: top;\n",
       "    }\n",
       "\n",
       "    .dataframe thead th {\n",
       "        text-align: right;\n",
       "    }\n",
       "</style>\n",
       "<table border=\"1\" class=\"dataframe\">\n",
       "  <thead>\n",
       "    <tr style=\"text-align: right;\">\n",
       "      <th></th>\n",
       "      <th>JD_Text</th>\n",
       "      <th>spacy_experience</th>\n",
       "      <th>groq_experience</th>\n",
       "      <th>hf_roberta_experience</th>\n",
       "      <th>hf_tinyroberta_experience</th>\n",
       "    </tr>\n",
       "  </thead>\n",
       "  <tbody>\n",
       "    <tr>\n",
       "      <th>0</th>\n",
       "      <td>\\n**Overview  \\n  \\n** Lazydays RV is looking ...</td>\n",
       "      <td>Not mentioned</td>\n",
       "      <td>Not mentioned</td>\n",
       "      <td>Not mentioned</td>\n",
       "      <td>1976</td>\n",
       "    </tr>\n",
       "    <tr>\n",
       "      <th>1</th>\n",
       "      <td>\\n**Ãrea De AtuaÃ§Ã£o  \\n  \\n** TÃ©cnico em I...</td>\n",
       "      <td>Not mentioned</td>\n",
       "      <td>Not mentioned</td>\n",
       "      <td>Not mentioned</td>\n",
       "      <td>Not mentioned</td>\n",
       "    </tr>\n",
       "    <tr>\n",
       "      <th>2</th>\n",
       "      <td>\\n\\n\\nðŸ”µ Capitole is still growing and we wa...</td>\n",
       "      <td>Not mentioned</td>\n",
       "      <td>Not mentioned</td>\n",
       "      <td>Not mentioned</td>\n",
       "      <td>34 days per year</td>\n",
       "    </tr>\n",
       "    <tr>\n",
       "      <th>3</th>\n",
       "      <td>\\n\\n\\nAs a Solutions Engineer, you will work c...</td>\n",
       "      <td>Not mentioned</td>\n",
       "      <td>Not mentioned</td>\n",
       "      <td>Not mentioned</td>\n",
       "      <td>Not mentioned</td>\n",
       "    </tr>\n",
       "    <tr>\n",
       "      <th>4</th>\n",
       "      <td>\\n\\n\\n**ABOUT DAYONE**\\n\\nDayOne is a global l...</td>\n",
       "      <td>2 years</td>\n",
       "      <td>5 years</td>\n",
       "      <td>5</td>\n",
       "      <td>Minimum 5 years</td>\n",
       "    </tr>\n",
       "    <tr>\n",
       "      <th>5</th>\n",
       "      <td>\\n\\n\\n**Job Role: Oracle PL/SQL Developer**\\n\\...</td>\n",
       "      <td>Not mentioned</td>\n",
       "      <td>10 years</td>\n",
       "      <td>10+</td>\n",
       "      <td>10+ years</td>\n",
       "    </tr>\n",
       "    <tr>\n",
       "      <th>6</th>\n",
       "      <td>\\n\\n\\n**Job Title:** Azure Data Engineer\\n\\n**...</td>\n",
       "      <td>up to years</td>\n",
       "      <td>5 years</td>\n",
       "      <td>Up to 145,000/Year</td>\n",
       "      <td>5+ years</td>\n",
       "    </tr>\n",
       "    <tr>\n",
       "      <th>7</th>\n",
       "      <td>\\n\\n\\nSynergie Italia seleziona per azienda le...</td>\n",
       "      <td>Not mentioned</td>\n",
       "      <td>Not mentioned</td>\n",
       "      <td>Not mentioned</td>\n",
       "      <td>12 maggio 2025</td>\n",
       "    </tr>\n",
       "    <tr>\n",
       "      <th>8</th>\n",
       "      <td>\\n**About  \\n  \\n** Du hast als IT-Ass eine Af...</td>\n",
       "      <td>Not mentioned</td>\n",
       "      <td>Not mentioned</td>\n",
       "      <td>Not mentioned</td>\n",
       "      <td>Not mentioned</td>\n",
       "    </tr>\n",
       "    <tr>\n",
       "      <th>9</th>\n",
       "      <td>\\n\\n\\n**Position: Senior Microsoft SQL Server ...</td>\n",
       "      <td>Not mentioned</td>\n",
       "      <td>10 years</td>\n",
       "      <td>10+</td>\n",
       "      <td>10+ years</td>\n",
       "    </tr>\n",
       "  </tbody>\n",
       "</table>\n",
       "</div>"
      ],
      "text/plain": [
       "                                             JD_Text spacy_experience  \\\n",
       "0  \\n**Overview  \\n  \\n** Lazydays RV is looking ...    Not mentioned   \n",
       "1  \\n**Ãrea De AtuaÃ§Ã£o  \\n  \\n** TÃ©cnico em I...    Not mentioned   \n",
       "2  \\n\\n\\nðŸ”µ Capitole is still growing and we wa...    Not mentioned   \n",
       "3  \\n\\n\\nAs a Solutions Engineer, you will work c...    Not mentioned   \n",
       "4  \\n\\n\\n**ABOUT DAYONE**\\n\\nDayOne is a global l...          2 years   \n",
       "5  \\n\\n\\n**Job Role: Oracle PL/SQL Developer**\\n\\...    Not mentioned   \n",
       "6  \\n\\n\\n**Job Title:** Azure Data Engineer\\n\\n**...      up to years   \n",
       "7  \\n\\n\\nSynergie Italia seleziona per azienda le...    Not mentioned   \n",
       "8  \\n**About  \\n  \\n** Du hast als IT-Ass eine Af...    Not mentioned   \n",
       "9  \\n\\n\\n**Position: Senior Microsoft SQL Server ...    Not mentioned   \n",
       "\n",
       "  groq_experience hf_roberta_experience hf_tinyroberta_experience  \n",
       "0   Not mentioned         Not mentioned                      1976  \n",
       "1   Not mentioned         Not mentioned             Not mentioned  \n",
       "2   Not mentioned         Not mentioned          34 days per year  \n",
       "3   Not mentioned         Not mentioned             Not mentioned  \n",
       "4         5 years                     5           Minimum 5 years  \n",
       "5        10 years                   10+                 10+ years  \n",
       "6         5 years    Up to 145,000/Year                  5+ years  \n",
       "7   Not mentioned         Not mentioned            12 maggio 2025  \n",
       "8   Not mentioned         Not mentioned             Not mentioned  \n",
       "9        10 years                   10+                 10+ years  "
      ]
     },
     "execution_count": 22,
     "metadata": {},
     "output_type": "execute_result"
    }
   ],
   "source": [
    "sample_df"
   ]
  },
  {
   "cell_type": "code",
   "execution_count": 23,
   "id": "42947f02",
   "metadata": {},
   "outputs": [],
   "source": [
    "sample_df[[\"JD_Text\", \"hf_tinyroberta_experience\"]].to_excel(\"../sample_outputs/hf_tinyroberta_model_results.xlsx\", index=False)"
   ]
  },
  {
   "cell_type": "markdown",
   "id": "14b429a3",
   "metadata": {},
   "source": []
  },
  {
   "cell_type": "markdown",
   "id": "f2a3cbe7",
   "metadata": {},
   "source": []
  },
  {
   "cell_type": "markdown",
   "id": "68a9c4b6",
   "metadata": {},
   "source": [
    "#### **5. distilbert/distilbert-base-cased-distilled-squad**"
   ]
  },
  {
   "cell_type": "code",
   "execution_count": 40,
   "id": "e8225859",
   "metadata": {},
   "outputs": [
    {
     "name": "stderr",
     "output_type": "stream",
     "text": [
      "Device set to use cpu\n"
     ]
    },
    {
     "name": "stdout",
     "output_type": "stream",
     "text": [
      "{'score': 0.5152314901351929, 'start': 151, 'end': 164, 'answer': 'SQuAD dataset'}\n",
      "SQuAD dataset\n"
     ]
    }
   ],
   "source": [
    "# trying code from docs\n",
    "from transformers import pipeline\n",
    "question_answerer = pipeline(\"question-answering\", model='distilbert-base-cased-distilled-squad')\n",
    "\n",
    "context = r\"\"\"\n",
    "Extractive Question Answering is the task of extracting an answer from a text given a question. An example     of a\n",
    "question answering dataset is the SQuAD dataset, which is entirely based on that task. If you would like to fine-tune\n",
    "a model on a SQuAD task, you may leverage the examples/pytorch/question-answering/run_squad.py script.\n",
    "\"\"\"\n",
    "\n",
    "result = question_answerer(question=\"What is a good example of a question answering dataset?\",     context=context)\n",
    "print(result)\n",
    "print(result['answer'])"
   ]
  },
  {
   "cell_type": "code",
   "execution_count": null,
   "id": "dc44331b",
   "metadata": {},
   "outputs": [],
   "source": []
  }
 ],
 "metadata": {
  "kernelspec": {
   "display_name": "mployee-task",
   "language": "python",
   "name": "python3"
  },
  "language_info": {
   "codemirror_mode": {
    "name": "ipython",
    "version": 3
   },
   "file_extension": ".py",
   "mimetype": "text/x-python",
   "name": "python",
   "nbconvert_exporter": "python",
   "pygments_lexer": "ipython3",
   "version": "3.10.16"
  }
 },
 "nbformat": 4,
 "nbformat_minor": 5
}
